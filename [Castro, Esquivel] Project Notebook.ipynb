{
 "cells": [
  {
   "cell_type": "markdown",
   "metadata": {},
   "source": [
    "# Project Notes\n",
    "\n",
    "- Lots of variables\n",
    "- EDA: check price outliers\n",
    "- Check listing/coverage\n",
    "- Most common/least common amenities\n",
    "- Images in the survey\n",
    "- Check if city is covered or check if there are parts of city that isn't covered\n",
    "    - this could affect listing prices\n",
    "- EDA mostly\n",
    "- KMeans and geolocation\n",
    "- noise map on property price\n",
    "- correlation tests on which amenities affects price\n",
    "- 2 cities, pasig and paranaque\n",
    "- we need to map pasig and paranaque\n",
    "- get qgist database\n",
    "    - qgist satellite view\n",
    "    - baka may shape files rin sila\n",
    "\n",
    "tasks:\n",
    "- Plot pasig and paranaque using qgist and geopandas\n",
    "- correlation tests between all the amenities and price\n",
    "- noise map in paranaque and pasig based on house price\n",
    "- map on which parts of paranaque and pasig have coverage/have houses"
   ]
  },
  {
   "cell_type": "code",
   "execution_count": null,
   "metadata": {},
   "outputs": [],
   "source": []
  }
 ],
 "metadata": {
  "kernelspec": {
   "display_name": ".venv",
   "language": "python",
   "name": "python3"
  },
  "language_info": {
   "name": "python",
   "version": "3.12.1"
  }
 },
 "nbformat": 4,
 "nbformat_minor": 2
}
